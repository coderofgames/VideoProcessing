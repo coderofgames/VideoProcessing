{
 "cells": [
  {
   "cell_type": "code",
   "execution_count": 49,
   "metadata": {
    "collapsed": false
   },
   "outputs": [],
   "source": [
    "import numpy as np\n",
    "import cv2\n",
    "\n",
    "cap = cv2.VideoCapture(0)\n",
    "\n",
    "# Define the codec and create VideoWriter object\n",
    "fourcc = cv2.VideoWriter_fourcc(*'XVID')\n",
    "out = cv2.VideoWriter('output.avi',fourcc, 20.0, (640,480))\n",
    "\n",
    "while(cap.isOpened()):\n",
    "    ret, frame = cap.read()\n",
    "    if ret==True:\n",
    "        #frame = cv2.flip(frame,0)\n",
    "\n",
    "        # frame = cv2.cvtColor(frame, cv2.COLOR_BGR2GRAY)\n",
    "        # write the flipped frame\n",
    "        \n",
    "        laplacian = cv2.Laplacian(frame,cv2.CV_64F)\n",
    "        sobelx64f = cv2.Sobel(frame,cv2.CV_64F,1,0,ksize=5)\n",
    "        abs_sobel64f = np.absolute(sobelx64f)\n",
    "        sobel_8u = np.uint8(abs_sobel64f)\n",
    "        \n",
    "        abs_laplace64f = np.absolute(laplacian)\n",
    "        laplacian_8u = np.uint8(abs_laplace64f)\n",
    "        #edges = cv2.Canny(frame,640,480)\n",
    "        # frame = cv2.circle(frame,(447,63), 63, (0,0,255), -1)\n",
    "        \n",
    "        out.write(laplacian_8u)\n",
    "\n",
    "        cv2.imshow('frame',laplacian_8u)\n",
    "        if cv2.waitKey(1) & 0xFF == ord('q'):\n",
    "            break\n",
    "    else:\n",
    "        break\n",
    "\n",
    "# Release everything if job is finished\n",
    "cap.release()\n",
    "out.release()\n",
    "cv2.destroyAllWindows()"
   ]
  },
  {
   "cell_type": "code",
   "execution_count": 47,
   "metadata": {
    "collapsed": false
   },
   "outputs": [],
   "source": [
    "import numpy as np\n",
    "import cv2\n",
    "\n",
    "cap = cv2.VideoCapture(0)\n",
    "\n",
    "# Define the codec and create VideoWriter object\n",
    "fourcc = cv2.VideoWriter_fourcc(*'XVID')\n",
    "out = cv2.VideoWriter('output.avi',fourcc, 20.0, (640,480))\n",
    "\n",
    "while(cap.isOpened()):\n",
    "    ret, frame = cap.read()\n",
    "    if ret==True:\n",
    "        #frame = cv2.flip(frame,0)\n",
    "\n",
    "        # frame = cv2.cvtColor(frame, cv2.COLOR_BGR2GRAY)\n",
    "        # write the flipped frame\n",
    "        \n",
    "        imgray = cv2.cvtColor(frame,cv2.COLOR_BGR2GRAY)\n",
    "        ret,thresh = cv2.threshold(imgray,65,255,0)\n",
    "        image, contours, hierarchy = cv2.findContours(thresh,cv2.RETR_TREE,cv2.CHAIN_APPROX_SIMPLE)\n",
    "        # frame = cv2.circle(frame,(447,63), 63, (0,0,255), -1)\n",
    "        #cnt = contours[4]\n",
    "        img = cv2.drawContours(image, contours, 0, (0,255,0), 3)\n",
    "        \n",
    "\n",
    "        out.write(img)\n",
    "\n",
    "        cv2.imshow('frame',img)\n",
    "        if cv2.waitKey(1) & 0xFF == ord('q'):\n",
    "            break\n",
    "    else:\n",
    "        break\n",
    "\n",
    "# Release everything if job is finished\n",
    "cap.release()\n",
    "out.release()\n",
    "cv2.destroyAllWindows()\n"
   ]
  },
  {
   "cell_type": "code",
   "execution_count": 46,
   "metadata": {
    "collapsed": false
   },
   "outputs": [],
   "source": [
    "import numpy as np\n",
    "import cv2\n",
    "\n",
    "cap = cv2.VideoCapture(0)\n",
    "\n",
    "# Define the codec and create VideoWriter object\n",
    "fourcc = cv2.VideoWriter_fourcc(*'XVID')\n",
    "out = cv2.VideoWriter('output.avi',fourcc, 20.0, (640,480))\n",
    "\n",
    "while(cap.isOpened()):\n",
    "    ret, frame = cap.read()\n",
    "    if ret==True:\n",
    "        #frame = cv2.flip(frame,0)\n",
    "\n",
    "        frame = cv2.cvtColor(frame, cv2.COLOR_BGR2GRAY)\n",
    "        # write the flipped frame\n",
    "        \n",
    "\n",
    "        # equ = cv2.equalizeHist(frame)\n",
    "        #res = np.hstack((frame,equ)) #stacking images side-by-side\n",
    "        clahe = cv2.createCLAHE(clipLimit=2.0, tileGridSize=(8,8))\n",
    "        cl1 = clahe.apply(frame)\n",
    "        # cv2.imwrite('res.png',res)\n",
    "        out.write(cl1)\n",
    "\n",
    "        cv2.imshow('frame',cl1)\n",
    "        if cv2.waitKey(1) & 0xFF == ord('q'):\n",
    "            break\n",
    "    else:\n",
    "        break\n",
    "\n",
    "# Release everything if job is finished\n",
    "cap.release()\n",
    "out.release()\n",
    "cv2.destroyAllWindows()"
   ]
  },
  {
   "cell_type": "code",
   "execution_count": null,
   "metadata": {
    "collapsed": true
   },
   "outputs": [],
   "source": []
  }
 ],
 "metadata": {
  "kernelspec": {
   "display_name": "Python 2",
   "language": "python",
   "name": "python2"
  },
  "language_info": {
   "codemirror_mode": {
    "name": "ipython",
    "version": 2
   },
   "file_extension": ".py",
   "mimetype": "text/x-python",
   "name": "python",
   "nbconvert_exporter": "python",
   "pygments_lexer": "ipython2",
   "version": "2.7.10"
  }
 },
 "nbformat": 4,
 "nbformat_minor": 0
}
